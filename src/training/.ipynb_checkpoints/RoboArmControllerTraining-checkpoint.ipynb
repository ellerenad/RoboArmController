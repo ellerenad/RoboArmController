{
 "cells": [
  {
   "cell_type": "code",
   "execution_count": 81,
   "metadata": {},
   "outputs": [],
   "source": [
    "import tensorflow as tf\n",
    "import pandas as pd\n",
    "import numpy as np"
   ]
  },
  {
   "cell_type": "markdown",
   "metadata": {},
   "source": [
    "Here, we define the columns of the training set, and load it from the file."
   ]
  },
  {
   "cell_type": "code",
   "execution_count": 82,
   "metadata": {},
   "outputs": [],
   "source": [
    "trainingSetStamp='1560104563782'\n",
    "training_column_names=[\"HAND_TYPE\",\n",
    "              \"FINGER1_X\", \"FINGER1_Y\", \"FINGER1_Z\",\n",
    "              \"FINGER2_X\", \"FINGER2_Y\", \"FINGER2_Z\",\n",
    "              \"FINGER3_X\", \"FINGER3_Y\", \"FINGER3_Z\",\n",
    "              \"FINGER4_X\", \"FINGER4_Y\", \"FINGER4_Z\",\n",
    "              \"FINGER5_X\", \"FINGER5_Y\", \"FINGER5_Z\"]\n",
    "column_names=[\"HAND_TYPE\",\n",
    "              \"FINGER1_X\", \"FINGER1_Y\", \"FINGER1_Z\",\n",
    "              \"FINGER2_X\", \"FINGER2_Y\", \"FINGER2_Z\",\n",
    "              \"FINGER3_X\", \"FINGER3_Y\", \"FINGER3_Z\",\n",
    "              \"FINGER4_X\", \"FINGER4_Y\", \"FINGER4_Z\",\n",
    "              \"FINGER5_X\", \"FINGER5_Y\", \"FINGER5_Z\",\n",
    "              \"INSTRUCTION_LABEL\"]\n",
    "data = pd.read_csv('../../trainingAssets/sets/trainingSet_'+trainingSetStamp+'.txt', sep=\"|\", header=None, names=column_names)"
   ]
  },
  {
   "cell_type": "markdown",
   "metadata": {},
   "source": [
    "Now, we shuffle the data and partition it into training set and test set"
   ]
  },
  {
   "cell_type": "code",
   "execution_count": 83,
   "metadata": {},
   "outputs": [],
   "source": [
    "data = data.sample(frac=1).reset_index(drop=True)\n",
    "test_len = (len(data) * 20)//100;\n",
    "training_data = data[test_len:]\n",
    "test_data = data[:test_len]"
   ]
  },
  {
   "cell_type": "markdown",
   "metadata": {},
   "source": [
    "Here we define the feature columns, describing the data on the data frame. \n",
    "\n",
    "TODO: Fix the type: The columns HAND_TYPE and INSTRUCTION_LABEL are int, not float32"
   ]
  },
  {
   "cell_type": "code",
   "execution_count": 84,
   "metadata": {},
   "outputs": [],
   "source": [
    "feature_columns=[tf.contrib.layers.real_valued_column(column_name, dimension=1, dtype=tf.float32) for column_name in training_column_names]"
   ]
  },
  {
   "cell_type": "markdown",
   "metadata": {},
   "source": [
    "Format the data as required by Tensorflow"
   ]
  },
  {
   "cell_type": "code",
   "execution_count": 85,
   "metadata": {},
   "outputs": [],
   "source": [
    "x_train_data = { column_name : np.array(training_data[column_name]) for column_name in training_column_names }"
   ]
  },
  {
   "cell_type": "markdown",
   "metadata": {},
   "source": [
    "Define and train the model: A neural network classifier, with 5 layers with 5 neurons each, and a possible output of 5 labels."
   ]
  },
  {
   "cell_type": "code",
   "execution_count": 86,
   "metadata": {},
   "outputs": [
    {
     "name": "stdout",
     "output_type": "stream",
     "text": [
      "INFO:tensorflow:Using default config.\n",
      "WARNING:tensorflow:Using temporary folder as model directory: /tmp/tmprbdfx305\n",
      "INFO:tensorflow:Using config: {'_model_dir': '/tmp/tmprbdfx305', '_tf_random_seed': None, '_save_summary_steps': 100, '_save_checkpoints_steps': None, '_save_checkpoints_secs': 600, '_session_config': allow_soft_placement: true\n",
      "graph_options {\n",
      "  rewrite_options {\n",
      "    meta_optimizer_iterations: ONE\n",
      "  }\n",
      "}\n",
      ", '_keep_checkpoint_max': 5, '_keep_checkpoint_every_n_hours': 10000, '_log_step_count_steps': 100, '_train_distribute': None, '_device_fn': None, '_protocol': None, '_eval_distribute': None, '_experimental_distribute': None, '_service': None, '_cluster_spec': <tensorflow.python.training.server_lib.ClusterSpec object at 0x7f3883fc64a8>, '_task_type': 'worker', '_task_id': 0, '_global_id_in_cluster': 0, '_master': '', '_evaluation_master': '', '_is_chief': True, '_num_ps_replicas': 0, '_num_worker_replicas': 1}\n",
      "INFO:tensorflow:Calling model_fn.\n",
      "INFO:tensorflow:Done calling model_fn.\n",
      "INFO:tensorflow:Create CheckpointSaverHook.\n",
      "INFO:tensorflow:Graph was finalized.\n",
      "INFO:tensorflow:Running local_init_op.\n",
      "INFO:tensorflow:Done running local_init_op.\n",
      "INFO:tensorflow:Saving checkpoints for 0 into /tmp/tmprbdfx305/model.ckpt.\n",
      "INFO:tensorflow:loss = 7593.0215, step = 1\n",
      "INFO:tensorflow:global_step/sec: 233.538\n",
      "INFO:tensorflow:loss = 104.369354, step = 101 (0.431 sec)\n",
      "INFO:tensorflow:global_step/sec: 291.248\n",
      "INFO:tensorflow:loss = 101.783615, step = 201 (0.342 sec)\n",
      "INFO:tensorflow:global_step/sec: 285.5\n",
      "INFO:tensorflow:loss = 80.20044, step = 301 (0.351 sec)\n",
      "INFO:tensorflow:global_step/sec: 331.606\n",
      "INFO:tensorflow:loss = 57.489117, step = 401 (0.303 sec)\n",
      "INFO:tensorflow:global_step/sec: 246.798\n",
      "INFO:tensorflow:loss = 61.626675, step = 501 (0.404 sec)\n",
      "INFO:tensorflow:global_step/sec: 253.396\n",
      "INFO:tensorflow:loss = 55.792217, step = 601 (0.396 sec)\n",
      "INFO:tensorflow:global_step/sec: 249.495\n",
      "INFO:tensorflow:loss = 43.563194, step = 701 (0.400 sec)\n",
      "INFO:tensorflow:global_step/sec: 355.934\n",
      "INFO:tensorflow:loss = 39.88587, step = 801 (0.281 sec)\n",
      "INFO:tensorflow:global_step/sec: 266.837\n",
      "INFO:tensorflow:loss = 42.111786, step = 901 (0.376 sec)\n",
      "INFO:tensorflow:global_step/sec: 321.988\n",
      "INFO:tensorflow:loss = 35.2562, step = 1001 (0.308 sec)\n",
      "INFO:tensorflow:global_step/sec: 310.814\n",
      "INFO:tensorflow:loss = 31.18702, step = 1101 (0.324 sec)\n",
      "INFO:tensorflow:global_step/sec: 287.116\n",
      "INFO:tensorflow:loss = 33.19909, step = 1201 (0.348 sec)\n",
      "INFO:tensorflow:global_step/sec: 356.882\n",
      "INFO:tensorflow:loss = 34.602745, step = 1301 (0.278 sec)\n",
      "INFO:tensorflow:global_step/sec: 265.442\n",
      "INFO:tensorflow:loss = 28.337933, step = 1401 (0.376 sec)\n",
      "INFO:tensorflow:global_step/sec: 327.618\n",
      "INFO:tensorflow:loss = 29.470821, step = 1501 (0.305 sec)\n",
      "INFO:tensorflow:global_step/sec: 273.486\n",
      "INFO:tensorflow:loss = 33.06756, step = 1601 (0.369 sec)\n",
      "INFO:tensorflow:global_step/sec: 337.012\n",
      "INFO:tensorflow:loss = 28.494562, step = 1701 (0.294 sec)\n",
      "INFO:tensorflow:global_step/sec: 301.594\n",
      "INFO:tensorflow:loss = 20.551233, step = 1801 (0.333 sec)\n",
      "INFO:tensorflow:global_step/sec: 285.885\n",
      "INFO:tensorflow:loss = 34.587357, step = 1901 (0.351 sec)\n",
      "INFO:tensorflow:Saving checkpoints for 2000 into /tmp/tmprbdfx305/model.ckpt.\n",
      "INFO:tensorflow:Loss for final step: 32.8303.\n"
     ]
    },
    {
     "data": {
      "text/plain": [
       "<tensorflow_estimator.python.estimator.canned.dnn.DNNClassifier at 0x7f3883fc6a58>"
      ]
     },
     "execution_count": 86,
     "metadata": {},
     "output_type": "execute_result"
    }
   ],
   "source": [
    "classifier = tf.estimator.DNNClassifier(\n",
    "       feature_columns = feature_columns,\n",
    "       hidden_units = [5, 5],\n",
    "       n_classes = 5)\n",
    "\n",
    "# Define the training inputs\n",
    "train_input_fn = tf.estimator.inputs.numpy_input_fn(\n",
    "    x = x_train_data,\n",
    "    y = np.array(training_data[\"INSTRUCTION_LABEL\"]).astype(int),\n",
    "    num_epochs = None,\n",
    "    shuffle = True)\n",
    "\n",
    "# Train model.\n",
    "classifier.train(input_fn = train_input_fn, steps = 2000)\n"
   ]
  },
  {
   "cell_type": "markdown",
   "metadata": {},
   "source": [
    "Use the previously separated test data to evaluate the accuracy of the model"
   ]
  },
  {
   "cell_type": "code",
   "execution_count": 88,
   "metadata": {},
   "outputs": [
    {
     "name": "stdout",
     "output_type": "stream",
     "text": [
      "INFO:tensorflow:Calling model_fn.\n",
      "INFO:tensorflow:Done calling model_fn.\n",
      "INFO:tensorflow:Starting evaluation at 2019-06-09T18:24:57Z\n",
      "INFO:tensorflow:Graph was finalized.\n",
      "INFO:tensorflow:Restoring parameters from /tmp/tmprbdfx305/model.ckpt-2000\n",
      "INFO:tensorflow:Running local_init_op.\n",
      "INFO:tensorflow:Done running local_init_op.\n",
      "INFO:tensorflow:Finished evaluation at 2019-06-09-18:24:57\n",
      "INFO:tensorflow:Saving dict for global step 2000: accuracy = 0.9448417, average_loss = 0.22552064, global_step = 2000, loss = 27.59809\n",
      "INFO:tensorflow:Saving 'checkpoint_path' summary for global step 2000: /tmp/tmprbdfx305/model.ckpt-2000\n",
      "Test Accuracy:  0.9448417\n"
     ]
    }
   ],
   "source": [
    "x_testing_data = { column_name : np.array(test_data[column_name]) for column_name in training_column_names }\n",
    "\n",
    "# Define the training inputs\n",
    "test_input_fn = tf.estimator.inputs.numpy_input_fn(\n",
    "    x = x_testing_data,\n",
    "    y = np.array(test_data[\"INSTRUCTION_LABEL\"]).astype(int),\n",
    "    num_epochs = 1,\n",
    "    shuffle = False)\n",
    "\n",
    "# Evaluate accuracy.\n",
    "accuracy_score = classifier.evaluate(input_fn=test_input_fn)[\"accuracy\"]\n",
    "\n",
    "print(\"Test Accuracy: \", accuracy_score)"
   ]
  },
  {
   "cell_type": "markdown",
   "metadata": {},
   "source": [
    "Export and store the trained model"
   ]
  },
  {
   "cell_type": "code",
   "execution_count": 89,
   "metadata": {},
   "outputs": [
    {
     "name": "stdout",
     "output_type": "stream",
     "text": [
      "INFO:tensorflow:Calling model_fn.\n",
      "INFO:tensorflow:Done calling model_fn.\n",
      "INFO:tensorflow:Signatures INCLUDED in export for Classify: ['serving_default', 'classification']\n",
      "INFO:tensorflow:Signatures INCLUDED in export for Regress: None\n",
      "INFO:tensorflow:Signatures INCLUDED in export for Predict: ['predict']\n",
      "INFO:tensorflow:Signatures INCLUDED in export for Train: None\n",
      "INFO:tensorflow:Signatures INCLUDED in export for Eval: None\n",
      "INFO:tensorflow:Restoring parameters from /tmp/tmprbdfx305/model.ckpt-2000\n",
      "INFO:tensorflow:Assets added to graph.\n",
      "INFO:tensorflow:No assets to write.\n",
      "INFO:tensorflow:SavedModel written to: ../../trainingAssets/models/temp-b'1560104701'/saved_model.pbtxt\n",
      "Model exported to ../../trainingAssets/models/1560104701\n"
     ]
    }
   ],
   "source": [
    "def serving_input_receiver_fn():\n",
    "    serialized_tf_example = tf.placeholder(dtype = tf.string, shape = [None], name = 'input_tensors')\n",
    "    receiver_tensors      = {'predictor_inputs' : serialized_tf_example}\n",
    "    feature_spec          = { column_name : tf.FixedLenFeature([25], tf.float32) for column_name in training_column_names }\n",
    "    features              = tf.parse_example(serialized_tf_example, feature_spec)\n",
    "    return tf.estimator.export.ServingInputReceiver(features, receiver_tensors)\n",
    "\n",
    "\n",
    "model_dir = classifier.export_savedmodel(export_dir_base = \"../../trainingAssets/models/\"+trainingSetStamp, \n",
    "                             serving_input_receiver_fn = serving_input_receiver_fn,\n",
    "                             as_text = True)\n",
    "print('Model exported to '+ model_dir.decode())"
   ]
  },
  {
   "cell_type": "code",
   "execution_count": null,
   "metadata": {},
   "outputs": [],
   "source": []
  }
 ],
 "metadata": {
  "kernelspec": {
   "display_name": "Python 3",
   "language": "python",
   "name": "python3"
  },
  "language_info": {
   "codemirror_mode": {
    "name": "ipython",
    "version": 3
   },
   "file_extension": ".py",
   "mimetype": "text/x-python",
   "name": "python",
   "nbconvert_exporter": "python",
   "pygments_lexer": "ipython3",
   "version": "3.7.3"
  }
 },
 "nbformat": 4,
 "nbformat_minor": 2
}
