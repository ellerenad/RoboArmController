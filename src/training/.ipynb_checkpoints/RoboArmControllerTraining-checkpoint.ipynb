{
 "cells": [
  {
   "cell_type": "code",
   "execution_count": 36,
   "metadata": {},
   "outputs": [],
   "source": [
    "import tensorflow as tf\n",
    "import pandas as pd\n",
    "import numpy as np"
   ]
  },
  {
   "cell_type": "markdown",
   "metadata": {},
   "source": [
    "Here, we define the columns of the training set, and load it from the file."
   ]
  },
  {
   "cell_type": "code",
   "execution_count": 50,
   "metadata": {},
   "outputs": [],
   "source": [
    "trainingSetName='trainingSet_1559827006805.txt'\n",
    "column_names=[\"HAND_TYPE\",\n",
    "              \"FINGER1_X\", \"FINGER1_Y\", \"FINGER1_Z\",\n",
    "              \"FINGER2_X\", \"FINGER2_Y\", \"FINGER2_Z\",\n",
    "              \"FINGER3_X\", \"FINGER3_Y\", \"FINGER3_Z\",\n",
    "              \"FINGER4_X\", \"FINGER4_Y\", \"FINGER4_Z\",\n",
    "              \"FINGER5_X\", \"FINGER5_Y\", \"FINGER5_Z\",\n",
    "              \"INSTRUCTION_LABEL\"]\n",
    "data = pd.read_csv('../../trainingAssets/sets/'+trainingSetName, sep=\"|\", header=None, names=column_names)"
   ]
  },
  {
   "cell_type": "markdown",
   "metadata": {},
   "source": [
    "Now, we shuffle the data and partition it into training set and test set"
   ]
  },
  {
   "cell_type": "code",
   "execution_count": 51,
   "metadata": {},
   "outputs": [],
   "source": [
    "data = data.sample(frac=1).reset_index(drop=True)\n",
    "test_len = (len(data) * 20)//100;\n",
    "training_data = data[test_len:]\n",
    "test_data = data[:test_len]"
   ]
  },
  {
   "cell_type": "markdown",
   "metadata": {},
   "source": [
    "Here we define the feature columns, describing the data on the data frame"
   ]
  },
  {
   "cell_type": "code",
   "execution_count": 56,
   "metadata": {},
   "outputs": [],
   "source": [
    "feature_columns=[tf.contrib.layers.real_valued_column(column_name, dimension=1, dtype=tf.float32) for column_name in column_names]"
   ]
  },
  {
   "cell_type": "code",
   "execution_count": 57,
   "metadata": {},
   "outputs": [],
   "source": [
    "x_train_data = { column_name : np.array(training_data[column_name]) for column_name in column_names }"
   ]
  },
  {
   "cell_type": "code",
   "execution_count": 58,
   "metadata": {},
   "outputs": [
    {
     "name": "stdout",
     "output_type": "stream",
     "text": [
      "INFO:tensorflow:Using default config.\n",
      "WARNING:tensorflow:Using temporary folder as model directory: /tmp/tmpdmaa_7h7\n",
      "INFO:tensorflow:Using config: {'_model_dir': '/tmp/tmpdmaa_7h7', '_tf_random_seed': None, '_save_summary_steps': 100, '_save_checkpoints_steps': None, '_save_checkpoints_secs': 600, '_session_config': allow_soft_placement: true\n",
      "graph_options {\n",
      "  rewrite_options {\n",
      "    meta_optimizer_iterations: ONE\n",
      "  }\n",
      "}\n",
      ", '_keep_checkpoint_max': 5, '_keep_checkpoint_every_n_hours': 10000, '_log_step_count_steps': 100, '_train_distribute': None, '_device_fn': None, '_protocol': None, '_eval_distribute': None, '_experimental_distribute': None, '_service': None, '_cluster_spec': <tensorflow.python.training.server_lib.ClusterSpec object at 0x7f38afa07b00>, '_task_type': 'worker', '_task_id': 0, '_global_id_in_cluster': 0, '_master': '', '_evaluation_master': '', '_is_chief': True, '_num_ps_replicas': 0, '_num_worker_replicas': 1}\n",
      "INFO:tensorflow:Calling model_fn.\n",
      "INFO:tensorflow:Done calling model_fn.\n",
      "INFO:tensorflow:Create CheckpointSaverHook.\n",
      "INFO:tensorflow:Graph was finalized.\n",
      "INFO:tensorflow:Running local_init_op.\n",
      "INFO:tensorflow:Done running local_init_op.\n",
      "INFO:tensorflow:Saving checkpoints for 0 into /tmp/tmpdmaa_7h7/model.ckpt.\n",
      "INFO:tensorflow:loss = 23341.797, step = 1\n",
      "INFO:tensorflow:global_step/sec: 233.133\n",
      "INFO:tensorflow:loss = 66.99929, step = 101 (0.430 sec)\n",
      "INFO:tensorflow:global_step/sec: 339.408\n",
      "INFO:tensorflow:loss = 43.296005, step = 201 (0.295 sec)\n",
      "INFO:tensorflow:global_step/sec: 348.126\n",
      "INFO:tensorflow:loss = 23.334866, step = 301 (0.288 sec)\n",
      "INFO:tensorflow:global_step/sec: 349.484\n",
      "INFO:tensorflow:loss = 31.874252, step = 401 (0.286 sec)\n",
      "INFO:tensorflow:global_step/sec: 337.119\n",
      "INFO:tensorflow:loss = 28.087357, step = 501 (0.297 sec)\n",
      "INFO:tensorflow:global_step/sec: 360.469\n",
      "INFO:tensorflow:loss = 31.030031, step = 601 (0.277 sec)\n",
      "INFO:tensorflow:global_step/sec: 348.333\n",
      "INFO:tensorflow:loss = 16.220032, step = 701 (0.287 sec)\n",
      "INFO:tensorflow:global_step/sec: 353.955\n",
      "INFO:tensorflow:loss = 29.823606, step = 801 (0.282 sec)\n",
      "INFO:tensorflow:global_step/sec: 339.568\n",
      "INFO:tensorflow:loss = 11.96825, step = 901 (0.295 sec)\n",
      "INFO:tensorflow:global_step/sec: 341.771\n",
      "INFO:tensorflow:loss = 27.108753, step = 1001 (0.293 sec)\n",
      "INFO:tensorflow:global_step/sec: 283.601\n",
      "INFO:tensorflow:loss = 19.266975, step = 1101 (0.355 sec)\n",
      "INFO:tensorflow:global_step/sec: 312.034\n",
      "INFO:tensorflow:loss = 21.424402, step = 1201 (0.317 sec)\n",
      "INFO:tensorflow:global_step/sec: 352.733\n",
      "INFO:tensorflow:loss = 19.265156, step = 1301 (0.284 sec)\n",
      "INFO:tensorflow:global_step/sec: 345.921\n",
      "INFO:tensorflow:loss = 19.668858, step = 1401 (0.290 sec)\n",
      "INFO:tensorflow:global_step/sec: 350.753\n",
      "INFO:tensorflow:loss = 10.107756, step = 1501 (0.285 sec)\n",
      "INFO:tensorflow:global_step/sec: 278.2\n",
      "INFO:tensorflow:loss = 10.776374, step = 1601 (0.359 sec)\n",
      "INFO:tensorflow:global_step/sec: 276.303\n",
      "INFO:tensorflow:loss = 12.653688, step = 1701 (0.366 sec)\n",
      "INFO:tensorflow:global_step/sec: 281.396\n",
      "INFO:tensorflow:loss = 16.270191, step = 1801 (0.353 sec)\n",
      "INFO:tensorflow:global_step/sec: 364.848\n",
      "INFO:tensorflow:loss = 23.710918, step = 1901 (0.274 sec)\n",
      "INFO:tensorflow:global_step/sec: 342.964\n",
      "INFO:tensorflow:loss = 14.755035, step = 2001 (0.292 sec)\n",
      "INFO:tensorflow:global_step/sec: 331.487\n",
      "INFO:tensorflow:loss = 19.752771, step = 2101 (0.301 sec)\n",
      "INFO:tensorflow:global_step/sec: 261.458\n",
      "INFO:tensorflow:loss = 18.063501, step = 2201 (0.383 sec)\n",
      "INFO:tensorflow:global_step/sec: 256.8\n",
      "INFO:tensorflow:loss = 20.084862, step = 2301 (0.395 sec)\n",
      "INFO:tensorflow:global_step/sec: 313.147\n",
      "INFO:tensorflow:loss = 22.300255, step = 2401 (0.314 sec)\n",
      "INFO:tensorflow:global_step/sec: 343.899\n",
      "INFO:tensorflow:loss = 20.520761, step = 2501 (0.290 sec)\n",
      "INFO:tensorflow:global_step/sec: 347.198\n",
      "INFO:tensorflow:loss = 11.422901, step = 2601 (0.289 sec)\n",
      "INFO:tensorflow:global_step/sec: 322.926\n",
      "INFO:tensorflow:loss = 10.988728, step = 2701 (0.309 sec)\n",
      "INFO:tensorflow:global_step/sec: 350.379\n",
      "INFO:tensorflow:loss = 17.263067, step = 2801 (0.285 sec)\n",
      "INFO:tensorflow:global_step/sec: 348.239\n",
      "INFO:tensorflow:loss = 13.072098, step = 2901 (0.287 sec)\n",
      "INFO:tensorflow:global_step/sec: 340.865\n",
      "INFO:tensorflow:loss = 5.994811, step = 3001 (0.294 sec)\n",
      "INFO:tensorflow:global_step/sec: 348.297\n",
      "INFO:tensorflow:loss = 14.720165, step = 3101 (0.287 sec)\n",
      "INFO:tensorflow:global_step/sec: 328.659\n",
      "INFO:tensorflow:loss = 13.94665, step = 3201 (0.303 sec)\n",
      "INFO:tensorflow:global_step/sec: 342.627\n",
      "INFO:tensorflow:loss = 11.483425, step = 3301 (0.293 sec)\n",
      "INFO:tensorflow:global_step/sec: 335.758\n",
      "INFO:tensorflow:loss = 12.852086, step = 3401 (0.297 sec)\n",
      "INFO:tensorflow:global_step/sec: 320.492\n",
      "INFO:tensorflow:loss = 11.575239, step = 3501 (0.311 sec)\n",
      "INFO:tensorflow:global_step/sec: 283.318\n",
      "INFO:tensorflow:loss = 12.716806, step = 3601 (0.354 sec)\n",
      "INFO:tensorflow:global_step/sec: 322.418\n",
      "INFO:tensorflow:loss = 9.182656, step = 3701 (0.309 sec)\n",
      "INFO:tensorflow:global_step/sec: 362.232\n",
      "INFO:tensorflow:loss = 14.623666, step = 3801 (0.276 sec)\n",
      "INFO:tensorflow:global_step/sec: 348.354\n",
      "INFO:tensorflow:loss = 15.394742, step = 3901 (0.287 sec)\n",
      "INFO:tensorflow:Saving checkpoints for 4000 into /tmp/tmpdmaa_7h7/model.ckpt.\n",
      "INFO:tensorflow:Loss for final step: 10.8690815.\n"
     ]
    },
    {
     "data": {
      "text/plain": [
       "<tensorflow_estimator.python.estimator.canned.dnn.DNNClassifier at 0x7f38afa07b38>"
      ]
     },
     "execution_count": 58,
     "metadata": {},
     "output_type": "execute_result"
    }
   ],
   "source": [
    "classifier = tf.estimator.DNNClassifier(\n",
    "       feature_columns = feature_columns,\n",
    "       hidden_units = [5, 5],\n",
    "       n_classes = 5)\n",
    "\n",
    "# Define the training inputs\n",
    "train_input_fn = tf.estimator.inputs.numpy_input_fn(\n",
    "    x = x_train_data,\n",
    "    y = np.array(training_data[\"INSTRUCTION_LABEL\"]).astype(int),\n",
    "    num_epochs = None,\n",
    "    shuffle = True)\n",
    "\n",
    "# Train model.\n",
    "classifier.train(input_fn = train_input_fn, steps = 4000)\n"
   ]
  },
  {
   "cell_type": "code",
   "execution_count": 59,
   "metadata": {},
   "outputs": [
    {
     "name": "stdout",
     "output_type": "stream",
     "text": [
      "INFO:tensorflow:Calling model_fn.\n",
      "INFO:tensorflow:Done calling model_fn.\n",
      "INFO:tensorflow:Starting evaluation at 2019-06-06T14:50:13Z\n",
      "INFO:tensorflow:Graph was finalized.\n",
      "INFO:tensorflow:Restoring parameters from /tmp/tmpdmaa_7h7/model.ckpt-4000\n",
      "INFO:tensorflow:Running local_init_op.\n",
      "INFO:tensorflow:Done running local_init_op.\n",
      "INFO:tensorflow:Finished evaluation at 2019-06-06-14:50:14\n",
      "INFO:tensorflow:Saving dict for global step 4000: accuracy = 0.9635627, average_loss = 0.117283225, global_step = 4000, loss = 14.484478\n",
      "INFO:tensorflow:Saving 'checkpoint_path' summary for global step 4000: /tmp/tmpdmaa_7h7/model.ckpt-4000\n",
      "Test Accuracy:  0.9635627\n"
     ]
    }
   ],
   "source": [
    "testing_data = { column_name : np.array(test_data[column_name]) for column_name in column_names }\n",
    "\n",
    "# Define the training inputs\n",
    "test_input_fn = tf.estimator.inputs.numpy_input_fn(\n",
    "    x = testing_data,\n",
    "    y = np.array(test_data[\"INSTRUCTION_LABEL\"]).astype(int),\n",
    "    num_epochs = 1,\n",
    "    shuffle = False)\n",
    "\n",
    "# Evaluate accuracy.\n",
    "accuracy_score = classifier.evaluate(input_fn=test_input_fn)[\"accuracy\"]\n",
    "\n",
    "print(\"Test Accuracy: \", accuracy_score)"
   ]
  },
  {
   "cell_type": "code",
   "execution_count": 63,
   "metadata": {},
   "outputs": [
    {
     "name": "stdout",
     "output_type": "stream",
     "text": [
      "INFO:tensorflow:Calling model_fn.\n",
      "INFO:tensorflow:Done calling model_fn.\n",
      "INFO:tensorflow:Signatures INCLUDED in export for Classify: ['serving_default', 'classification']\n",
      "INFO:tensorflow:Signatures INCLUDED in export for Regress: None\n",
      "INFO:tensorflow:Signatures INCLUDED in export for Predict: ['predict']\n",
      "INFO:tensorflow:Signatures INCLUDED in export for Train: None\n",
      "INFO:tensorflow:Signatures INCLUDED in export for Eval: None\n",
      "INFO:tensorflow:Restoring parameters from /tmp/tmpdmaa_7h7/model.ckpt-4000\n",
      "INFO:tensorflow:Assets added to graph.\n",
      "INFO:tensorflow:No assets to write.\n",
      "INFO:tensorflow:SavedModel written to: ../../trainingAssets/models/temp-b'1559841453'/saved_model.pbtxt\n",
      "Model exported to ../../trainingAssets/models/1559841453\n"
     ]
    }
   ],
   "source": [
    "def serving_input_receiver_fn():\n",
    "    serialized_tf_example = tf.placeholder(dtype = tf.string, shape = [None], name = 'input_tensors')\n",
    "    receiver_tensors      = {'predictor_inputs' : serialized_tf_example}\n",
    "    feature_spec          = { column_name : tf.FixedLenFeature([25], tf.float32) for column_name in column_names }\n",
    "    features              = tf.parse_example(serialized_tf_example, feature_spec)\n",
    "    return tf.estimator.export.ServingInputReceiver(features, receiver_tensors)\n",
    "\n",
    "\n",
    "model_dir = classifier.export_savedmodel(export_dir_base = \"../../trainingAssets/models\", \n",
    "                             serving_input_receiver_fn = serving_input_receiver_fn,\n",
    "                             as_text = True)\n",
    "print('Model exported to '+ model_dir.decode())"
   ]
  },
  {
   "cell_type": "code",
   "execution_count": null,
   "metadata": {},
   "outputs": [],
   "source": []
  }
 ],
 "metadata": {
  "kernelspec": {
   "display_name": "Python 3",
   "language": "python",
   "name": "python3"
  },
  "language_info": {
   "codemirror_mode": {
    "name": "ipython",
    "version": 3
   },
   "file_extension": ".py",
   "mimetype": "text/x-python",
   "name": "python",
   "nbconvert_exporter": "python",
   "pygments_lexer": "ipython3",
   "version": "3.7.3"
  }
 },
 "nbformat": 4,
 "nbformat_minor": 2
}
