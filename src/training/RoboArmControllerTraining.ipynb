{
 "cells": [
  {
   "cell_type": "code",
   "execution_count": 81,
   "metadata": {},
   "outputs": [],
   "source": [
    "import tensorflow as tf\n",
    "import pandas as pd\n",
    "import numpy as np"
   ]
  },
  {
   "cell_type": "markdown",
   "metadata": {},
   "source": [
    "Here, we define the columns of the training set, and load it from the file."
   ]
  },
  {
   "cell_type": "code",
   "execution_count": 90,
   "metadata": {},
   "outputs": [],
   "source": [
    "trainingSetStamp='1560159859969'\n",
    "training_column_names=[\"HAND_TYPE\",\n",
    "              \"FINGER1_X\", \"FINGER1_Y\", \"FINGER1_Z\",\n",
    "              \"FINGER2_X\", \"FINGER2_Y\", \"FINGER2_Z\",\n",
    "              \"FINGER3_X\", \"FINGER3_Y\", \"FINGER3_Z\",\n",
    "              \"FINGER4_X\", \"FINGER4_Y\", \"FINGER4_Z\",\n",
    "              \"FINGER5_X\", \"FINGER5_Y\", \"FINGER5_Z\"]\n",
    "column_names=[\"HAND_TYPE\",\n",
    "              \"FINGER1_X\", \"FINGER1_Y\", \"FINGER1_Z\",\n",
    "              \"FINGER2_X\", \"FINGER2_Y\", \"FINGER2_Z\",\n",
    "              \"FINGER3_X\", \"FINGER3_Y\", \"FINGER3_Z\",\n",
    "              \"FINGER4_X\", \"FINGER4_Y\", \"FINGER4_Z\",\n",
    "              \"FINGER5_X\", \"FINGER5_Y\", \"FINGER5_Z\",\n",
    "              \"INSTRUCTION_LABEL\"]\n",
    "data = pd.read_csv('../../trainingAssets/sets/trainingSet_'+trainingSetStamp+'.txt', sep=\"|\", header=None, names=column_names)"
   ]
  },
  {
   "cell_type": "markdown",
   "metadata": {},
   "source": [
    "Now, we shuffle the data and partition it into training set and test set"
   ]
  },
  {
   "cell_type": "code",
   "execution_count": 91,
   "metadata": {},
   "outputs": [],
   "source": [
    "data = data.sample(frac=1).reset_index(drop=True)\n",
    "test_len = (len(data) * 20)//100;\n",
    "training_data = data[test_len:]\n",
    "test_data = data[:test_len]"
   ]
  },
  {
   "cell_type": "markdown",
   "metadata": {},
   "source": [
    "Here we define the feature columns, describing the data on the data frame. \n",
    "\n",
    "TODO: Fix the type: The columns HAND_TYPE and INSTRUCTION_LABEL are int, not float32"
   ]
  },
  {
   "cell_type": "code",
   "execution_count": 92,
   "metadata": {},
   "outputs": [],
   "source": [
    "feature_columns=[tf.contrib.layers.real_valued_column(column_name, dimension=1, dtype=tf.float32) for column_name in training_column_names]"
   ]
  },
  {
   "cell_type": "markdown",
   "metadata": {},
   "source": [
    "Format the data as required by Tensorflow"
   ]
  },
  {
   "cell_type": "code",
   "execution_count": 93,
   "metadata": {},
   "outputs": [],
   "source": [
    "x_train_data = { column_name : np.array(training_data[column_name]) for column_name in training_column_names }"
   ]
  },
  {
   "cell_type": "markdown",
   "metadata": {},
   "source": [
    "Define and train the model: A neural network classifier, with 5 layers with 5 neurons each, and a possible output of 5 labels."
   ]
  },
  {
   "cell_type": "code",
   "execution_count": 94,
   "metadata": {},
   "outputs": [
    {
     "name": "stdout",
     "output_type": "stream",
     "text": [
      "INFO:tensorflow:Using default config.\n",
      "WARNING:tensorflow:Using temporary folder as model directory: /tmp/tmpjkuokdwb\n",
      "INFO:tensorflow:Using config: {'_model_dir': '/tmp/tmpjkuokdwb', '_tf_random_seed': None, '_save_summary_steps': 100, '_save_checkpoints_steps': None, '_save_checkpoints_secs': 600, '_session_config': allow_soft_placement: true\n",
      "graph_options {\n",
      "  rewrite_options {\n",
      "    meta_optimizer_iterations: ONE\n",
      "  }\n",
      "}\n",
      ", '_keep_checkpoint_max': 5, '_keep_checkpoint_every_n_hours': 10000, '_log_step_count_steps': 100, '_train_distribute': None, '_device_fn': None, '_protocol': None, '_eval_distribute': None, '_experimental_distribute': None, '_service': None, '_cluster_spec': <tensorflow.python.training.server_lib.ClusterSpec object at 0x7f38afdbf470>, '_task_type': 'worker', '_task_id': 0, '_global_id_in_cluster': 0, '_master': '', '_evaluation_master': '', '_is_chief': True, '_num_ps_replicas': 0, '_num_worker_replicas': 1}\n",
      "INFO:tensorflow:Calling model_fn.\n",
      "INFO:tensorflow:Done calling model_fn.\n",
      "INFO:tensorflow:Create CheckpointSaverHook.\n",
      "INFO:tensorflow:Graph was finalized.\n",
      "INFO:tensorflow:Running local_init_op.\n",
      "INFO:tensorflow:Done running local_init_op.\n",
      "INFO:tensorflow:Saving checkpoints for 0 into /tmp/tmpjkuokdwb/model.ckpt.\n",
      "INFO:tensorflow:loss = 5858.5044, step = 1\n",
      "INFO:tensorflow:global_step/sec: 303.793\n",
      "INFO:tensorflow:loss = 149.2292, step = 101 (0.331 sec)\n",
      "INFO:tensorflow:global_step/sec: 350.524\n",
      "INFO:tensorflow:loss = 120.37967, step = 201 (0.285 sec)\n",
      "INFO:tensorflow:global_step/sec: 356.806\n",
      "INFO:tensorflow:loss = 117.25587, step = 301 (0.279 sec)\n",
      "INFO:tensorflow:global_step/sec: 344.116\n",
      "INFO:tensorflow:loss = 114.358215, step = 401 (0.292 sec)\n",
      "INFO:tensorflow:global_step/sec: 337.83\n",
      "INFO:tensorflow:loss = 91.856285, step = 501 (0.295 sec)\n",
      "INFO:tensorflow:global_step/sec: 332.717\n",
      "INFO:tensorflow:loss = 81.15129, step = 601 (0.301 sec)\n",
      "INFO:tensorflow:global_step/sec: 349.692\n",
      "INFO:tensorflow:loss = 67.53331, step = 701 (0.287 sec)\n",
      "INFO:tensorflow:global_step/sec: 347.014\n",
      "INFO:tensorflow:loss = 62.925472, step = 801 (0.288 sec)\n",
      "INFO:tensorflow:global_step/sec: 310.733\n",
      "INFO:tensorflow:loss = 63.533764, step = 901 (0.320 sec)\n",
      "INFO:tensorflow:global_step/sec: 287.861\n",
      "INFO:tensorflow:loss = 77.7065, step = 1001 (0.348 sec)\n",
      "INFO:tensorflow:global_step/sec: 314.798\n",
      "INFO:tensorflow:loss = 69.18483, step = 1101 (0.318 sec)\n",
      "INFO:tensorflow:global_step/sec: 277.553\n",
      "INFO:tensorflow:loss = 67.52144, step = 1201 (0.359 sec)\n",
      "INFO:tensorflow:global_step/sec: 327.246\n",
      "INFO:tensorflow:loss = 54.547432, step = 1301 (0.307 sec)\n",
      "INFO:tensorflow:global_step/sec: 347.658\n",
      "INFO:tensorflow:loss = 57.11047, step = 1401 (0.288 sec)\n",
      "INFO:tensorflow:global_step/sec: 335.333\n",
      "INFO:tensorflow:loss = 55.00891, step = 1501 (0.298 sec)\n",
      "INFO:tensorflow:global_step/sec: 349.292\n",
      "INFO:tensorflow:loss = 58.624546, step = 1601 (0.287 sec)\n",
      "INFO:tensorflow:global_step/sec: 350.776\n",
      "INFO:tensorflow:loss = 53.471252, step = 1701 (0.284 sec)\n",
      "INFO:tensorflow:global_step/sec: 343.319\n",
      "INFO:tensorflow:loss = 54.022335, step = 1801 (0.292 sec)\n",
      "INFO:tensorflow:global_step/sec: 337.271\n",
      "INFO:tensorflow:loss = 62.431503, step = 1901 (0.296 sec)\n",
      "INFO:tensorflow:Saving checkpoints for 2000 into /tmp/tmpjkuokdwb/model.ckpt.\n",
      "INFO:tensorflow:Loss for final step: 58.360058.\n"
     ]
    },
    {
     "data": {
      "text/plain": [
       "<tensorflow_estimator.python.estimator.canned.dnn.DNNClassifier at 0x7f38afdbfd30>"
      ]
     },
     "execution_count": 94,
     "metadata": {},
     "output_type": "execute_result"
    }
   ],
   "source": [
    "classifier = tf.estimator.DNNClassifier(\n",
    "       feature_columns = feature_columns,\n",
    "       hidden_units = [5, 5],\n",
    "       n_classes = 5)\n",
    "\n",
    "# Define the training inputs\n",
    "train_input_fn = tf.estimator.inputs.numpy_input_fn(\n",
    "    x = x_train_data,\n",
    "    y = np.array(training_data[\"INSTRUCTION_LABEL\"]).astype(int),\n",
    "    num_epochs = None,\n",
    "    shuffle = True)\n",
    "\n",
    "# Train model.\n",
    "classifier.train(input_fn = train_input_fn, steps = 2000)\n"
   ]
  },
  {
   "cell_type": "markdown",
   "metadata": {},
   "source": [
    "Use the previously separated test data to evaluate the accuracy of the model"
   ]
  },
  {
   "cell_type": "code",
   "execution_count": 95,
   "metadata": {},
   "outputs": [
    {
     "name": "stdout",
     "output_type": "stream",
     "text": [
      "INFO:tensorflow:Calling model_fn.\n",
      "INFO:tensorflow:Done calling model_fn.\n",
      "INFO:tensorflow:Starting evaluation at 2019-06-10T09:46:27Z\n",
      "INFO:tensorflow:Graph was finalized.\n",
      "INFO:tensorflow:Restoring parameters from /tmp/tmpjkuokdwb/model.ckpt-2000\n",
      "INFO:tensorflow:Running local_init_op.\n",
      "INFO:tensorflow:Done running local_init_op.\n",
      "INFO:tensorflow:Finished evaluation at 2019-06-10-09:46:27\n",
      "INFO:tensorflow:Saving dict for global step 2000: accuracy = 0.768, average_loss = 0.45445916, global_step = 2000, loss = 56.807396\n",
      "INFO:tensorflow:Saving 'checkpoint_path' summary for global step 2000: /tmp/tmpjkuokdwb/model.ckpt-2000\n",
      "Test Accuracy:  0.768\n"
     ]
    }
   ],
   "source": [
    "x_testing_data = { column_name : np.array(test_data[column_name]) for column_name in training_column_names }\n",
    "\n",
    "# Define the training inputs\n",
    "test_input_fn = tf.estimator.inputs.numpy_input_fn(\n",
    "    x = x_testing_data,\n",
    "    y = np.array(test_data[\"INSTRUCTION_LABEL\"]).astype(int),\n",
    "    num_epochs = 1,\n",
    "    shuffle = False)\n",
    "\n",
    "# Evaluate accuracy.\n",
    "accuracy_score = classifier.evaluate(input_fn=test_input_fn)[\"accuracy\"]\n",
    "\n",
    "print(\"Test Accuracy: \", accuracy_score)"
   ]
  },
  {
   "cell_type": "markdown",
   "metadata": {},
   "source": [
    "Export and store the trained model"
   ]
  },
  {
   "cell_type": "code",
   "execution_count": 96,
   "metadata": {},
   "outputs": [
    {
     "name": "stdout",
     "output_type": "stream",
     "text": [
      "INFO:tensorflow:Calling model_fn.\n",
      "INFO:tensorflow:Done calling model_fn.\n",
      "INFO:tensorflow:Signatures INCLUDED in export for Classify: ['serving_default', 'classification']\n",
      "INFO:tensorflow:Signatures INCLUDED in export for Regress: None\n",
      "INFO:tensorflow:Signatures INCLUDED in export for Predict: ['predict']\n",
      "INFO:tensorflow:Signatures INCLUDED in export for Train: None\n",
      "INFO:tensorflow:Signatures INCLUDED in export for Eval: None\n",
      "INFO:tensorflow:Restoring parameters from /tmp/tmpjkuokdwb/model.ckpt-2000\n",
      "INFO:tensorflow:Assets added to graph.\n",
      "INFO:tensorflow:No assets to write.\n",
      "INFO:tensorflow:SavedModel written to: ../../trainingAssets/models/1560159859969/temp-b'1560160000'/saved_model.pbtxt\n",
      "Model exported to ../../trainingAssets/models/1560159859969/1560160000\n"
     ]
    }
   ],
   "source": [
    "def serving_input_receiver_fn():\n",
    "    serialized_tf_example = tf.placeholder(dtype = tf.string, shape = [None], name = 'input_tensors')\n",
    "    receiver_tensors      = {'predictor_inputs' : serialized_tf_example}\n",
    "    feature_spec          = { column_name : tf.FixedLenFeature([25], tf.float32) for column_name in training_column_names }\n",
    "    features              = tf.parse_example(serialized_tf_example, feature_spec)\n",
    "    return tf.estimator.export.ServingInputReceiver(features, receiver_tensors)\n",
    "\n",
    "\n",
    "model_dir = classifier.export_savedmodel(export_dir_base = \"../../trainingAssets/models/\"+trainingSetStamp, \n",
    "                             serving_input_receiver_fn = serving_input_receiver_fn,\n",
    "                             as_text = True)\n",
    "print('Model exported to '+ model_dir.decode())"
   ]
  },
  {
   "cell_type": "code",
   "execution_count": null,
   "metadata": {},
   "outputs": [],
   "source": []
  }
 ],
 "metadata": {
  "kernelspec": {
   "display_name": "Python 3",
   "language": "python",
   "name": "python3"
  },
  "language_info": {
   "codemirror_mode": {
    "name": "ipython",
    "version": 3
   },
   "file_extension": ".py",
   "mimetype": "text/x-python",
   "name": "python",
   "nbconvert_exporter": "python",
   "pygments_lexer": "ipython3",
   "version": "3.7.3"
  }
 },
 "nbformat": 4,
 "nbformat_minor": 2
}
